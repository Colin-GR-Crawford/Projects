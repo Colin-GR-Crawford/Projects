{
 "cells": [
  {
   "cell_type": "markdown",
   "metadata": {},
   "source": [
    "# Histogram Generator\n",
    "This notebook calls scripts taken from https://github.com/wihoho/Image-Recognition to generate texture histograms based on spatial pyramid matching (http://www-cvr.ai.uiuc.edu/ponce_grp/publication/paper/cvpr06b.pdf) and VLFeat's Scale-Invariant Feature Transform (SIFT) (http://www.vlfeat.org/overview/sift.html). The histograms are then outputted into a .csv format in order to be compared against input images."
   ]
  },
  {
   "cell_type": "code",
   "execution_count": 3,
   "metadata": {
    "collapsed": false
   },
   "outputs": [],
   "source": [
    "% matplotlib inline\n",
    "import pandas as pd"
   ]
  },
  {
   "cell_type": "code",
   "execution_count": 4,
   "metadata": {
    "collapsed": true
   },
   "outputs": [],
   "source": [
    "from recognition import utils\n",
    "from recognition import classification\n",
    "\n",
    "def buildHistogram(path, level):\n",
    "\n",
    "    # Read in vocabulary & data\n",
    "    voc = utils.loadDataFromFile(\"Data/voc.pkl\")\n",
    "    Data = utils.readImages(path)\n",
    "\n",
    "    # Transform each feature into histogram\n",
    "    featureHistogram = []\n",
    "    labels = []\n",
    "\n",
    "    index = 0\n",
    "    for oneImage in Data:\n",
    "\n",
    "        featureHistogram.append(voc.buildHistogramForEachImageAtDifferentLevels(oneImage, level))\n",
    "        \n",
    "    return featureHistogram\n"
   ]
  },
  {
   "cell_type": "code",
   "execution_count": 5,
   "metadata": {
    "collapsed": false,
    "scrolled": true
   },
   "outputs": [
    {
     "name": "stdout",
     "output_type": "stream",
     "text": [
      "Extract SIFT features of /Users/annacrawford/Colin/GA/Week1/DSI_LDN_1_LESSON_NOTES/projects/capstone/Test_Images//Matches_Images/1071095_1.jpg\n",
      "Extract SIFT features of /Users/annacrawford/Colin/GA/Week1/DSI_LDN_1_LESSON_NOTES/projects/capstone/Test_Images//Matches_Images/1072988_1_large.jpg\n",
      "Extract SIFT features of /Users/annacrawford/Colin/GA/Week1/DSI_LDN_1_LESSON_NOTES/projects/capstone/Test_Images//Matches_Images/1077221_1.jpg\n",
      "Extract SIFT features of /Users/annacrawford/Colin/GA/Week1/DSI_LDN_1_LESSON_NOTES/projects/capstone/Test_Images//Matches_Images/1077239_1.jpg\n",
      "Extract SIFT features of /Users/annacrawford/Colin/GA/Week1/DSI_LDN_1_LESSON_NOTES/projects/capstone/Test_Images//Street_No_Bk/Test_1.jpg\n",
      "Extract SIFT features of /Users/annacrawford/Colin/GA/Week1/DSI_LDN_1_LESSON_NOTES/projects/capstone/Test_Images//Street_No_Bk/Test_2.jpg\n"
     ]
    }
   ],
   "source": [
    "output= buildHistogram('/Users/annacrawford/Colin/GA/Week1/DSI_LDN_1_LESSON_NOTES/projects/capstone/Test_Images/',1)"
   ]
  },
  {
   "cell_type": "code",
   "execution_count": 6,
   "metadata": {
    "collapsed": false
   },
   "outputs": [],
   "source": [
    "Out=pd.DataFrame(data=output)"
   ]
  },
  {
   "cell_type": "code",
   "execution_count": 7,
   "metadata": {
    "collapsed": true
   },
   "outputs": [],
   "source": [
    "Out.to_csv('/Users/annacrawford/Colin/GA/Week1/DSI_LDN_1_LESSON_NOTES/projects/capstone/Texture_Features_TEST.csv',index=False)"
   ]
  }
 ],
 "metadata": {
  "anaconda-cloud": {},
  "kernelspec": {
   "display_name": "Python [Zaincorp]",
   "language": "python",
   "name": "Python [Zaincorp]"
  },
  "language_info": {
   "codemirror_mode": {
    "name": "ipython",
    "version": 2
   },
   "file_extension": ".py",
   "mimetype": "text/x-python",
   "name": "python",
   "nbconvert_exporter": "python",
   "pygments_lexer": "ipython2",
   "version": "2.7.12"
  }
 },
 "nbformat": 4,
 "nbformat_minor": 1
}
