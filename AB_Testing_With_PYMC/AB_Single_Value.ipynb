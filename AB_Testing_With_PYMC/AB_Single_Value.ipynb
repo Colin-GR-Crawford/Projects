{
 "cells": [
  {
   "cell_type": "markdown",
   "metadata": {},
   "source": [
    "# A/B testing with Bayesian Statistics and pymc3\n",
    "In this notebook I am using pymc3 to perform an A/B test on three different configurations of a university library website, the configurations are displayed below. The variation is the title of one of the links. I will use pymc3, based on bayesian probabliy to see if any of the cnahges can produce statsitically significant results in either a positive or negative mannner.\n",
    "The data has been taken from http://scholarworks.montana.edu/xmlui/handle/1/3507"
   ]
  },
  {
   "cell_type": "code",
   "execution_count": 23,
   "metadata": {
    "collapsed": false
   },
   "outputs": [],
   "source": [
    "import matplotlib.pyplot as plt\n",
    "import numpy as np\n",
    "import pandas as pd\n",
    "import seaborn as sns\n",
    "import pymc3 as pm\n",
    "%matplotlib inline"
   ]
  },
  {
   "cell_type": "code",
   "execution_count": 24,
   "metadata": {
    "collapsed": true
   },
   "outputs": [],
   "source": [
    "## Loading the data\n",
    "Data_A=pd.read_csv('../../CrazyEgg/Homepage Version 1 - Interact, 5-29-2013/Element list Homepage Version 1 - Interact, 5-29-2013.csv')\n",
    "Data_B=pd.read_csv('../../CrazyEgg/Homepage Version 2 - Connect, 5-29-2013/Element list Homepage Version 2 - Connect, 5-29-2013.csv')\n",
    "Data_C=pd.read_csv('../../CrazyEgg/Homepage Version 3 - Learn, 5-29-2013/Element list Homepage Version 3 - Learn, 5-29-2013.csv')\n",
    "Data_D=pd.read_csv('../../CrazyEgg/Homepage Version 4 - Help, 5-29-2013/Element list Homepage Version 4 - Help, 5-29-2013.csv')\n",
    "Data_E=pd.read_csv('../../CrazyEgg/Homepage Version 5 - Services, 5-29-2013/Element list Homepage Version 5 - Services, 5-29-2013.csv')"
   ]
  },
  {
   "cell_type": "code",
   "execution_count": 25,
   "metadata": {
    "collapsed": false
   },
   "outputs": [],
   "source": [
    "## Rename a poorly named column\n",
    "Data_A.rename(columns={'No. clicks':'clicks'},inplace=True)\n",
    "Data_B.rename(columns={'No. clicks':'clicks'},inplace=True)\n",
    "Data_C.rename(columns={'No. clicks':'clicks'},inplace=True)\n",
    "Data_D.rename(columns={'No. clicks':'clicks'},inplace=True)\n",
    "Data_E.rename(columns={'No. clicks':'clicks'},inplace=True)"
   ]
  },
  {
   "cell_type": "code",
   "execution_count": 26,
   "metadata": {
    "collapsed": false
   },
   "outputs": [
    {
     "data": {
      "text/html": [
       "<div>\n",
       "<table border=\"1\" class=\"dataframe\">\n",
       "  <thead>\n",
       "    <tr style=\"text-align: right;\">\n",
       "      <th></th>\n",
       "      <th>Element ID</th>\n",
       "      <th>Tag name</th>\n",
       "      <th>Name</th>\n",
       "      <th>clicks</th>\n",
       "      <th>Visible?</th>\n",
       "      <th>Snapshot information</th>\n",
       "    </tr>\n",
       "  </thead>\n",
       "  <tbody>\n",
       "    <tr>\n",
       "      <th>0</th>\n",
       "      <td>74</td>\n",
       "      <td>a</td>\n",
       "      <td>FIND</td>\n",
       "      <td>502</td>\n",
       "      <td>True</td>\n",
       "      <td>Homepage Version 2 - Connect   •   http://www....</td>\n",
       "    </tr>\n",
       "    <tr>\n",
       "      <th>1</th>\n",
       "      <td>66</td>\n",
       "      <td>input</td>\n",
       "      <td>s.q</td>\n",
       "      <td>357</td>\n",
       "      <td>True</td>\n",
       "      <td>created 5-29-2013   •   20 days 7 hours 34 min...</td>\n",
       "    </tr>\n",
       "    <tr>\n",
       "      <th>2</th>\n",
       "      <td>72</td>\n",
       "      <td>a</td>\n",
       "      <td>lib.montana.edu/find/</td>\n",
       "      <td>171</td>\n",
       "      <td>True</td>\n",
       "      <td>NaN</td>\n",
       "    </tr>\n",
       "    <tr>\n",
       "      <th>3</th>\n",
       "      <td>133</td>\n",
       "      <td>area</td>\n",
       "      <td>Montana State University Libraries - Home</td>\n",
       "      <td>83</td>\n",
       "      <td>False</td>\n",
       "      <td>NaN</td>\n",
       "    </tr>\n",
       "    <tr>\n",
       "      <th>4</th>\n",
       "      <td>103</td>\n",
       "      <td>a</td>\n",
       "      <td>Hours</td>\n",
       "      <td>74</td>\n",
       "      <td>True</td>\n",
       "      <td>NaN</td>\n",
       "    </tr>\n",
       "    <tr>\n",
       "      <th>5</th>\n",
       "      <td>83</td>\n",
       "      <td>a</td>\n",
       "      <td>REQUEST</td>\n",
       "      <td>57</td>\n",
       "      <td>True</td>\n",
       "      <td>NaN</td>\n",
       "    </tr>\n",
       "    <tr>\n",
       "      <th>6</th>\n",
       "      <td>92</td>\n",
       "      <td>a</td>\n",
       "      <td>CONNECT</td>\n",
       "      <td>53</td>\n",
       "      <td>True</td>\n",
       "      <td>NaN</td>\n",
       "    </tr>\n",
       "    <tr>\n",
       "      <th>7</th>\n",
       "      <td>67</td>\n",
       "      <td>button</td>\n",
       "      <td>Search</td>\n",
       "      <td>47</td>\n",
       "      <td>True</td>\n",
       "      <td>NaN</td>\n",
       "    </tr>\n",
       "    <tr>\n",
       "      <th>8</th>\n",
       "      <td>81</td>\n",
       "      <td>a</td>\n",
       "      <td>lib.montana.edu/request/</td>\n",
       "      <td>31</td>\n",
       "      <td>True</td>\n",
       "      <td>NaN</td>\n",
       "    </tr>\n",
       "    <tr>\n",
       "      <th>9</th>\n",
       "      <td>101</td>\n",
       "      <td>a</td>\n",
       "      <td>News</td>\n",
       "      <td>31</td>\n",
       "      <td>True</td>\n",
       "      <td>NaN</td>\n",
       "    </tr>\n",
       "  </tbody>\n",
       "</table>\n",
       "</div>"
      ],
      "text/plain": [
       "   Element ID Tag name                                       Name  clicks  \\\n",
       "0          74        a                                       FIND     502   \n",
       "1          66    input                                        s.q     357   \n",
       "2          72        a                      lib.montana.edu/find/     171   \n",
       "3         133     area  Montana State University Libraries - Home      83   \n",
       "4         103        a                                      Hours      74   \n",
       "5          83        a                                    REQUEST      57   \n",
       "6          92        a                                    CONNECT      53   \n",
       "7          67   button                                     Search      47   \n",
       "8          81        a                   lib.montana.edu/request/      31   \n",
       "9         101        a                                       News      31   \n",
       "\n",
       "  Visible?                               Snapshot information  \n",
       "0     True  Homepage Version 2 - Connect   •   http://www....  \n",
       "1     True  created 5-29-2013   •   20 days 7 hours 34 min...  \n",
       "2     True                                                NaN  \n",
       "3    False                                                NaN  \n",
       "4     True                                                NaN  \n",
       "5     True                                                NaN  \n",
       "6     True                                                NaN  \n",
       "7     True                                                NaN  \n",
       "8     True                                                NaN  \n",
       "9     True                                                NaN  "
      ]
     },
     "execution_count": 26,
     "metadata": {},
     "output_type": "execute_result"
    }
   ],
   "source": [
    "Data_B.head(10)"
   ]
  },
  {
   "cell_type": "code",
   "execution_count": 27,
   "metadata": {
    "collapsed": false
   },
   "outputs": [],
   "source": [
    "## I am only interested in the number of clicks that are used on the website to go to various links, and specifically \n",
    "## the proporations of these that are used on the varied link.\n",
    "Data_A=Data_A[Data_A['Tag name']=='a']\n",
    "Data_B=Data_B[Data_B['Tag name']=='a']\n",
    "Data_C=Data_C[Data_C['Tag name']=='a']\n",
    "Data_D=Data_D[Data_D['Tag name']=='a']\n",
    "Data_E=Data_E[Data_E['Tag name']=='a']"
   ]
  },
  {
   "cell_type": "code",
   "execution_count": 28,
   "metadata": {
    "collapsed": false
   },
   "outputs": [],
   "source": [
    "## I will now sum all of the clicks that have taken place in each of the sets of oberseved data, and the number of \n",
    "## clicks directed at the links under investigation.\n",
    "Total_Clicks_A=Data_A.clicks.sum()\n",
    "Test_Clicks_A=Data_A[Data_A.Name=='INTERACT'].clicks\n",
    "Total_Clicks_B=Data_B.clicks.sum()\n",
    "Test_Clicks_B=Data_B[Data_B.Name=='CONNECT'].clicks\n",
    "Total_Clicks_C=Data_C.clicks.sum()\n",
    "Test_Clicks_C=Data_C[Data_C.Name=='LEARN'].clicks\n",
    "Total_Clicks_D=Data_D.clicks.sum()\n",
    "Test_Clicks_D=Data_D[Data_D.Name=='HELP'].clicks\n",
    "Total_Clicks_E=Data_E.clicks.sum()\n",
    "Test_Clicks_E=Data_E[Data_E.Name=='SERVICES'].clicks"
   ]
  },
  {
   "cell_type": "code",
   "execution_count": 29,
   "metadata": {
    "collapsed": false
   },
   "outputs": [
    {
     "name": "stdout",
     "output_type": "stream",
     "text": [
      "9    0.025751\n",
      "Name: clicks, dtype: float64\n",
      "6    0.051257\n",
      "Name: clicks, dtype: float64\n"
     ]
    }
   ],
   "source": [
    "## The proportion of test clicks to total clicks is extremely low, I expect this will lead to results that are not \n",
    "## very signifcant due to the relative size.\n",
    "print Test_Clicks_A/Total_Clicks_A\n",
    "print Test_Clicks_B/Total_Clicks_B"
   ]
  },
  {
   "cell_type": "code",
   "execution_count": 30,
   "metadata": {
    "collapsed": false
   },
   "outputs": [],
   "source": [
    "## Here I am converting the number of clicks into a binary numpy array, with all the positive clicks as 1s and all \n",
    "## of the other clicks as 0s.\n",
    "Bin_Data_A = np.r_[[0] * (Total_Clicks_A-Test_Clicks_A), [1] * Test_Clicks_A]\n",
    "Bin_Data_B = np.r_[[0] * (Total_Clicks_B-Test_Clicks_B), [1] * Test_Clicks_B]\n",
    "Bin_Data_C = np.r_[[0] * (Total_Clicks_C-Test_Clicks_C), [1] * Test_Clicks_C]\n",
    "Bin_Data_D = np.r_[[0] * (Total_Clicks_D-Test_Clicks_D), [1] * Test_Clicks_D]\n",
    "Bin_Data_E = np.r_[[0] * (Total_Clicks_E-Test_Clicks_E), [1] * Test_Clicks_E]"
   ]
  },
  {
   "cell_type": "code",
   "execution_count": 31,
   "metadata": {
    "collapsed": false
   },
   "outputs": [
    {
     "name": "stderr",
     "output_type": "stream",
     "text": [
      "Applied interval-transform to p_A and added transformed p_A_interval_ to model.\n",
      "Applied interval-transform to p_B and added transformed p_B_interval_ to model.\n",
      "Applied interval-transform to p_C and added transformed p_C_interval_ to model.\n",
      "Applied interval-transform to p_D and added transformed p_D_interval_ to model.\n",
      "Applied interval-transform to p_E and added transformed p_E_interval_ to model.\n"
     ]
    }
   ],
   "source": [
    "## I will now initialise the model, and create uniform prior distirbutions for each of the scenarios. \n",
    "model=pm.Model()\n",
    "with model:\n",
    "    p_A = pm.Uniform('p_A', lower=0, upper=1)\n",
    "    p_B = pm.Uniform('p_B', lower=0, upper=1)\n",
    "    p_C = pm.Uniform('p_C', lower=0, upper=1)\n",
    "    p_D = pm.Uniform('p_D', lower=0, upper=1)\n",
    "    p_E = pm.Uniform('p_E', lower=0, upper=1)"
   ]
  },
  {
   "cell_type": "code",
   "execution_count": 32,
   "metadata": {
    "collapsed": true
   },
   "outputs": [],
   "source": [
    "## Using the deterministic function I have created Delta values, that calcualte the difference between the base \n",
    "## and test scenarios.\n",
    "with model:\n",
    "        delta_B = pm.Deterministic('Delta_B', p_B - p_A)\n",
    "        delta_C = pm.Deterministic('Delta_C', p_C - p_A)\n",
    "        delta_D = pm.Deterministic('Delta_D', p_D - p_A)\n",
    "        delta_E = pm.Deterministic('Delta_E', p_E - p_A)"
   ]
  },
  {
   "cell_type": "code",
   "execution_count": 33,
   "metadata": {
    "collapsed": false
   },
   "outputs": [],
   "source": [
    "\n",
    "with model:\n",
    "    obs_A = pm.Bernoulli(\"obs_A\", p_A,Bin_Data_A, observed = True)\n",
    "    obs_B = pm.Bernoulli(\"obs_B\", p_B,Bin_Data_B, observed = True)\n",
    "    obs_C = pm.Bernoulli(\"obs_C\", p_C,Bin_Data_C, observed = True)\n",
    "    obs_D = pm.Bernoulli(\"obs_D\", p_D,Bin_Data_D, observed = True)\n",
    "    obs_E = pm.Bernoulli(\"obs_E\", p_E,Bin_Data_E, observed = True)"
   ]
  },
  {
   "cell_type": "code",
   "execution_count": 34,
   "metadata": {
    "collapsed": false
   },
   "outputs": [
    {
     "name": "stderr",
     "output_type": "stream",
     "text": [
      "Assigned NUTS to p_A_interval_\n",
      "Assigned NUTS to p_B_interval_\n",
      "Assigned NUTS to p_C_interval_\n",
      "Assigned NUTS to p_D_interval_\n",
      "Assigned NUTS to p_E_interval_\n",
      "100%|██████████| 25000/25000 [01:36<00:00, 259.32it/s]\n"
     ]
    }
   ],
   "source": [
    "with model:\n",
    "    trace = pm.sample(25000, njobs=4)\n",
    "\n",
    "burned_trace=trace[10000:]"
   ]
  },
  {
   "cell_type": "code",
   "execution_count": 36,
   "metadata": {
    "collapsed": false
   },
   "outputs": [
    {
     "data": {
      "text/plain": [
       "{'Delta_B': -0.66120468133305654,\n",
       " 'Delta_C': 0.17881877792876388,\n",
       " 'Delta_D': -0.056578866404849881,\n",
       " 'Delta_E': -0.35818375504808575,\n",
       " 'p_A': 0.81811713097704353,\n",
       " 'p_A_interval_': 1.5036426151598326,\n",
       " 'p_B': 0.15691244964398696,\n",
       " 'p_B_interval_': -1.6813828040838252,\n",
       " 'p_C': 0.99693590890580741,\n",
       " 'p_C_interval_': 5.7849355020324786,\n",
       " 'p_D': 0.76153826457219365,\n",
       " 'p_D_interval_': 1.161131561019602,\n",
       " 'p_E': 0.45993337592895778,\n",
       " 'p_E_interval_': -0.16061086580072925}"
      ]
     },
     "execution_count": 36,
     "metadata": {},
     "output_type": "execute_result"
    }
   ],
   "source": [
    "burned_trace[0]"
   ]
  },
  {
   "cell_type": "code",
   "execution_count": null,
   "metadata": {
    "collapsed": false
   },
   "outputs": [],
   "source": [
    "fig, (ax1, ax2) = plt.subplots(ncols=2, sharey=True)\n",
    "ax1.hist(burned_trace[\"p_A\"], bins=70, normed=True)\n",
    "ax1.set_title(\"Posterior distribution for the \\n mean of the APM of 19yo\")\n",
    "ax1.set_xlim([0,1])\n",
    "ax2.hist(burned_trace[\"p_B\"], bins=70, normed=True)\n",
    "ax2.set_title(\"Posterior distribution for the \\n mean of the APM of 26yo\")\n",
    "ax2.set_xlim([0,1])\n",
    "plt.show()"
   ]
  },
  {
   "cell_type": "code",
   "execution_count": 35,
   "metadata": {
    "collapsed": false
   },
   "outputs": [
    {
     "data": {
      "text/plain": [
       "array([<matplotlib.axes._subplots.AxesSubplot object at 0x12911cb90>,\n",
       "       <matplotlib.axes._subplots.AxesSubplot object at 0x11b589d50>,\n",
       "       <matplotlib.axes._subplots.AxesSubplot object at 0x1210ac110>,\n",
       "       <matplotlib.axes._subplots.AxesSubplot object at 0x1210a0e10>,\n",
       "       <matplotlib.axes._subplots.AxesSubplot object at 0x12109bd90>], dtype=object)"
      ]
     },
     "execution_count": 35,
     "metadata": {},
     "output_type": "execute_result"
    },
    {
     "data": {
      "image/png": "[encoded data removed]",
      "text/plain": [
       "<matplotlib.figure.Figure at 0x12a5dd710>"
      ]
     },
     "metadata": {},
     "output_type": "display_data"
    }
   ],
   "source": [
    "pm.plot_posterior(burned_trace,\n",
    "                  varnames=['p_A_interval_', 'p_B_interval_','p_C_interval_','p_D_interval_','p_E_interval_'],\n",
    "                  color='#87ceeb')"
   ]
  },
  {
   "cell_type": "code",
   "execution_count": 37,
   "metadata": {
    "collapsed": false
   },
   "outputs": [
    {
     "name": "stdout",
     "output_type": "stream",
     "text": [
      "Probability site A is BETTER than site B: 0.495\n",
      "Probability site A is WORSE than site B: 0.505\n"
     ]
    }
   ],
   "source": [
    "print \"Probability site A is BETTER than site B: %.3f\" %(burned_trace[\"Delta_B\"] < 0).mean()\n",
    "print \"Probability site A is WORSE than site B: %.3f\" %(burned_trace[\"Delta_B\"] > 0).mean()"
   ]
  },
  {
   "cell_type": "code",
   "execution_count": 38,
   "metadata": {
    "collapsed": false
   },
   "outputs": [
    {
     "name": "stdout",
     "output_type": "stream",
     "text": [
      "Probability site A is BETTER than site C: 0.500\n",
      "Probability site A is WORSE than site C: 0.500\n"
     ]
    }
   ],
   "source": [
    "print \"Probability site A is BETTER than site C: %.3f\" %(burned_trace[\"Delta_C\"] < 0).mean()\n",
    "print \"Probability site A is WORSE than site C: %.3f\" %(burned_trace[\"Delta_C\"] > 0).mean()"
   ]
  },
  {
   "cell_type": "code",
   "execution_count": 39,
   "metadata": {
    "collapsed": false
   },
   "outputs": [
    {
     "name": "stdout",
     "output_type": "stream",
     "text": [
      "Probability site A is BETTER than site D: 0.497\n",
      "Probability site A is WORSE than site D: 0.503\n"
     ]
    }
   ],
   "source": [
    "print \"Probability site A is BETTER than site D: %.3f\" %(burned_trace[\"Delta_D\"] < 0).mean()\n",
    "print \"Probability site A is WORSE than site D: %.3f\" %(burned_trace[\"Delta_D\"] > 0).mean()"
   ]
  },
  {
   "cell_type": "code",
   "execution_count": 40,
   "metadata": {
    "collapsed": false
   },
   "outputs": [
    {
     "name": "stdout",
     "output_type": "stream",
     "text": [
      "Probability site A is BETTER than site E: 0.496\n",
      "Probability site A is WORSE than site E: 0.504\n"
     ]
    }
   ],
   "source": [
    "print \"Probability site A is BETTER than site E: %.3f\" %(burned_trace[\"Delta_E\"] < 0).mean()\n",
    "print \"Probability site A is WORSE than site E: %.3f\" %(burned_trace[\"Delta_E\"] > 0).mean()"
   ]
  },
  {
   "cell_type": "code",
   "execution_count": null,
   "metadata": {
    "collapsed": true
   },
   "outputs": [],
   "source": []
  }
 ],
 "metadata": {
  "anaconda-cloud": {},
  "kernelspec": {
   "display_name": "Python [conda env:Env2.7]",
   "language": "python",
   "name": "conda-env-Env2.7-py"
  },
  "language_info": {
   "codemirror_mode": {
    "name": "ipython",
    "version": 2
   },
   "file_extension": ".py",
   "mimetype": "text/x-python",
   "name": "python",
   "nbconvert_exporter": "python",
   "pygments_lexer": "ipython2",
   "version": "2.7.12"
  }
 },
 "nbformat": 4,
 "nbformat_minor": 0
}
